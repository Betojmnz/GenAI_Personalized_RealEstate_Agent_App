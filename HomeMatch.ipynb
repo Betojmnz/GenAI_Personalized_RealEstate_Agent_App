{
 "cells": [
  {
   "cell_type": "markdown",
   "id": "a108af04",
   "metadata": {},
   "source": [
    "This is a starter notebook for the project, you'll have to import the libraries you'll need, you can find a list of the ones available in this workspace in the requirements.txt file in this workspace. "
   ]
  },
  {
   "cell_type": "markdown",
   "id": "9c404417",
   "metadata": {},
   "source": [
    "## Step 1: Setting Up the Python Application"
   ]
  },
  {
   "cell_type": "code",
   "execution_count": 1,
   "id": "6554fd4c",
   "metadata": {},
   "outputs": [],
   "source": [
    "# Load all relevant libraries\n",
    "import os\n",
    "from langchain.llms import OpenAI\n",
    "from langchain.prompts import PromptTemplate\n",
    "import chromadb\n",
    "import openai\n",
    "\n",
    "# Setting up the OpenAI API key\n",
    "os.environ[\"OPENAI_API_KEY\"] = \"YOUR API KEY\"\n",
    "os.environ[\"OPENAI_API_BASE\"] = \"https://openai.vocareum.com/v1\""
   ]
  },
  {
   "cell_type": "markdown",
   "id": "46c395d5",
   "metadata": {},
   "source": [
    "## Step 2: Generating Real Estate Listings"
   ]
  },
  {
   "cell_type": "code",
   "execution_count": 2,
   "id": "c90df5c1",
   "metadata": {},
   "outputs": [
    {
     "name": "stderr",
     "output_type": "stream",
     "text": [
      "/opt/conda/lib/python3.10/site-packages/langchain/llms/openai.py:202: UserWarning: You are trying to use a chat model. This way of initializing it is no longer supported. Instead, please use: `from langchain.chat_models import ChatOpenAI`\n",
      "  warnings.warn(\n",
      "/opt/conda/lib/python3.10/site-packages/langchain/llms/openai.py:790: UserWarning: You are trying to use a chat model. This way of initializing it is no longer supported. Instead, please use: `from langchain.chat_models import ChatOpenAI`\n",
      "  warnings.warn(\n"
     ]
    },
    {
     "name": "stdout",
     "output_type": "stream",
     "text": [
      "Neighborhood,Price in USD,No. of Bedrooms,No. of Bathrooms,House size in square feet,Description,Neighborhood Description\n",
      "Capitol Hill,500000,2,1,1000,\"This charming bungalow in the heart of Capitol Hill is the perfect starter home. With two cozy bedrooms, a spacious living room, and a beautifully landscaped backyard, this property is ideal for young professionals or a small family. Don't miss out on this gem!\",Capitol Hill is known for its vibrant arts scene, trendy boutiques, and diverse dining options. Residents enjoy easy access to public transportation and stunning views of the city skyline.\n",
      "Ballard,700000,3,2,1500,\"This modern townhouse in Ballard offers the perfect blend of style and comfort. With three bedrooms, two bathrooms, and a sleek open-concept living space, this property is perfect for those who love to entertain. The rooftop deck is the perfect spot to enjoy a glass of wine while taking in the views of the Puget Sound.\",Ballard is a hip neighborhood known for its craft breweries, trendy shops, and scenic waterfront parks. Residents enjoy a laid-back vibe and easy access to downtown Seattle.\n",
      "Queen Anne,900000,4,3,2000,\"This elegant Queen Anne home boasts four bedrooms, three bathrooms, and a spacious backyard perfect for summer BBQs. The gourmet kitchen features high-end appliances and a large island, making it a chef's dream. The master suite offers a luxurious retreat with a spa-like bathroom and walk-in closet.\",Queen Anne is a historic neighborhood known for its stunning views of the city and iconic architecture. Residents enjoy upscale dining options, boutique shopping, and easy access to parks and cultural attractions.\n",
      "Fremont,600000,2,1,1200,\"This cozy cottage in Fremont is the perfect retreat from the hustle and bustle of city life. With two bedrooms, a renovated bathroom, and a charming backyard garden, this property offers a peaceful oasis in the heart of the city. The open-concept living space is perfect for hosting friends and family.\",Fremont is a quirky neighborhood known for its public art installations, eclectic shops, and lively nightlife. Residents enjoy a strong sense of community and easy access to outdoor activities along the Ship Canal.\n",
      "Greenwood,550000,3,2,1400,\"This updated Greenwood home offers three bedrooms, two bathrooms, and a spacious backyard with a deck perfect for summer BBQs. The open-concept living space features hardwood floors, a cozy fireplace, and plenty of natural light. The master suite offers a private retreat with a spa-like bathroom and walk-in closet.\",Greenwood is a family-friendly neighborhood known for its tree-lined streets, local parks, and community events. Residents enjoy a strong sense of community and easy access to schools, shops, and restaurants.\n",
      "West Seattle,800000,4,3,1800,\"This stunning West Seattle home boasts four bedrooms, three bathrooms, and a beautifully landscaped backyard with a patio perfect for outdoor entertaining. The gourmet kitchen features high-end appliances, a large island, and a walk-in pantry. The master suite offers a luxurious retreat with a spa-like bathroom and walk-in closet.\",West Seattle is a laid-back neighborhood known for its stunning views of the Puget Sound and Olympic Mountains. Residents enjoy a relaxed vibe, beach access, and a variety of outdoor activities.\n",
      "Belltown,750000,2,2,1600,\"This modern condo in Belltown offers two bedrooms, two bathrooms, and floor-to-ceiling windows with breathtaking views of the city skyline. The open-concept living space features a gourmet kitchen, hardwood floors, and a private balcony. The building amenities include a rooftop deck, fitness center, and concierge service.\",Belltown is a bustling neighborhood known for its trendy restaurants, art galleries, and nightlife. Residents enjoy easy access to downtown Seattle, public transportation, and cultural attractions.\n",
      "Magnolia,950000,3,3,2200,\"This luxurious Magnolia home boasts three bedrooms, three bathrooms, and a beautifully landscaped backyard with a patio perfect for outdoor entertaining. The gourmet kitchen features high-end appliances, a large island, and a walk-in pantry. The master suite offers a private retreat with a spa-like bathroom and walk-in closet.\",Magnolia is an upscale neighborhood known for its stunning views of the Puget Sound and Mount Rainier. Residents enjoy a quiet, residential feel with easy access to parks, schools, and shopping.\n",
      "University District,650000,2,1,1100,\"This charming University District bungalow offers two bedrooms, one bathroom, and a cozy living room with a fireplace. The updated kitchen features stainless steel appliances and a breakfast nook. The backyard garden is the perfect spot to relax and unwind after a long day.\",The University District is a vibrant neighborhood known for its proximity to the University of Washington campus, eclectic shops, and diverse dining options. Residents enjoy a lively atmosphere and easy access to public transportation.\n"
     ]
    }
   ],
   "source": [
    "#Select and define parameters for the LLM model \n",
    "model_name = \"gpt-3.5-turbo\"\n",
    "temperature = 0.0\n",
    "llm = OpenAI(model_name=model_name, temperature=temperature, max_tokens = 4000)\n",
    "\n",
    "# Generate real-estate listings\n",
    "data_gen_template=\"\"\"\n",
    "generate csv formatted reviews for ten different real estate properties located in Seattle, Washington. \n",
    "for each property, generate {num_reviews} reviews. \n",
    "each review will have these fields in the csv: Neighborhood, Price in USD, No. of Bedrooms, No. of Bathrooms, House size in square feet, description limited to 500 characters and neighbourhood description limited to 500 characters\n",
    "The descriptions need to be creative, csv format is a must.\n",
    "\"\"\"\n",
    "data_gen_prompt = PromptTemplate.from_template(data_gen_template)\n",
    "\n",
    "#Print generated listings\n",
    "print(llm(data_gen_prompt.format(num_reviews = 10)))"
   ]
  },
  {
   "cell_type": "code",
   "execution_count": 3,
   "id": "e1e7be0c",
   "metadata": {},
   "outputs": [
    {
     "name": "stdout",
     "output_type": "stream",
     "text": [
      "CSV file saved as 'real_estate_listings.csv'\n"
     ]
    }
   ],
   "source": [
    "# Generate real estate listings\n",
    "csv_content = llm(data_gen_prompt.format(num_reviews=10))\n",
    "\n",
    "# Save the generated CSV content to a file\n",
    "with open(\"real_estate_listings.csv\", \"w\") as file:\n",
    "    file.write(csv_content)\n",
    "\n",
    "print(\"CSV file saved as 'real_estate_listings.csv'\")\n"
   ]
  },
  {
   "cell_type": "code",
   "execution_count": 4,
   "id": "bf883a29",
   "metadata": {},
   "outputs": [],
   "source": [
    "# Parse CSV listings \n",
    "def parse_csv(file_path):\n",
    "    with open(file_path, \"r\") as file:\n",
    "        lines = file.readlines()\n",
    "    \n",
    "    headers = lines[0].strip().split(\",\")\n",
    "    listings = []\n",
    "    \n",
    "    for line in lines[1:]:\n",
    "        values = line.strip().split(\",\")\n",
    "        listing = dict(zip(headers, values))\n",
    "        listings.append(listing)\n",
    "    \n",
    "    return listings\n",
    "\n",
    "listings = parse_csv(\"real_estate_listings.csv\")"
   ]
  },
  {
   "cell_type": "markdown",
   "id": "4848e8d0",
   "metadata": {},
   "source": [
    "## Step 3: Storing Listings in a Vector Database"
   ]
  },
  {
   "cell_type": "code",
   "execution_count": 5,
   "id": "df5f5f81",
   "metadata": {},
   "outputs": [
    {
     "name": "stdout",
     "output_type": "stream",
     "text": [
      "Listings stored in the vector database.\n"
     ]
    }
   ],
   "source": [
    "# Function to generate embeddings using OpenAI API\n",
    "def get_embedding(text):\n",
    "    response = openai.Embedding.create(\n",
    "        input=text,\n",
    "        model=\"text-embedding-ada-002\"\n",
    "    )\n",
    "    return response['data'][0]['embedding']\n",
    "\n",
    "# Initialize ChromaDB\n",
    "db = chromadb.Client()\n",
    "collection = db.get_or_create_collection(name=\"real_estate_listings\")\n",
    "\n",
    "# Store each listing in the vector database\n",
    "for idx, listing in enumerate(listings):\n",
    "    listing_text = f\"Neighborhood: {listing['Neighborhood']}, Price: {listing['Price in USD']}, Bedrooms: {listing['No. of Bedrooms']}, Bathrooms: {listing['No. of Bathrooms']}, House Size: {listing['House size in square feet']}, Description: {listing['Description']}, Neighborhood Description: {listing['Neighborhood Description']}\"\n",
    "    embedding = get_embedding(listing_text)\n",
    "    collection.add(\n",
    "        documents=[listing_text],\n",
    "        embeddings=[embedding],\n",
    "        ids=[str(idx)]  # Add a unique ID for each document\n",
    "    )\n",
    "\n",
    "print(\"Listings stored in the vector database.\")"
   ]
  },
  {
   "cell_type": "markdown",
   "id": "2a95fc13",
   "metadata": {},
   "source": [
    "## Step 4: Building the User Preference Interface"
   ]
  },
  {
   "cell_type": "code",
   "execution_count": 6,
   "id": "b31cef70",
   "metadata": {},
   "outputs": [],
   "source": [
    "# Collect buyer preferences\n",
    "questions = [   \n",
    "    \"How big do you want your house to be?\", \n",
    "    \"What are the 3 most important things for you in choosing this property?\", \n",
    "    \"Which amenities would you like?\", \n",
    "    \"Which transportation options are important to you?\",\n",
    "    \"How urban do you want your neighborhood to be?\",   \n",
    "]\n",
    "\n",
    "answers = [\n",
    "    \"A comfortable three-bedroom house with a spacious kitchen and a cozy living room.\",\n",
    "    \"A quiet neighborhood, good local schools, and convenient shopping options.\",\n",
    "    \"A backyard for gardening, a two-car garage, and a modern, energy-efficient heating system.\",\n",
    "    \"Easy access to a reliable bus line, proximity to a major highway, and bike-friendly roads.\",\n",
    "    \"A balance between suburban tranquility and access to urban amenities like restaurants and theaters.\"\n",
    "]\n",
    "\n",
    "# Parse and structure preferences\n",
    "preferences = \" \".join(answers)\n",
    "\n",
    "# Generate embedding for buyer preferences\n",
    "preference_embedding = get_embedding(preferences)"
   ]
  },
  {
   "cell_type": "markdown",
   "id": "454e17a0",
   "metadata": {},
   "source": [
    "## Step 5: Searching Based on Preferences "
   ]
  },
  {
   "cell_type": "code",
   "execution_count": 7,
   "id": "8a3955c8",
   "metadata": {},
   "outputs": [
    {
     "name": "stdout",
     "output_type": "stream",
     "text": [
      "Result 1:\n",
      "Neighborhood: Ballard, Price: 700000, Bedrooms: 3, Bathrooms: 2, House Size: 1500, Description: \"This modern townhouse in Ballard offers sleek design and ample space for a growing family. With three bedrooms, Neighborhood Description:  two bathrooms\n",
      "\n",
      "Result 2:\n",
      "Neighborhood: Greenwood, Price: 550000, Bedrooms: 3, Bathrooms: 2, House Size: 1400, Description: \"Welcome home to this charming craftsman in Greenwood. With three bedrooms, Neighborhood Description:  two bathrooms\n",
      "\n",
      "Result 3:\n",
      "Neighborhood: University District, Price: 650000, Bedrooms: 3, Bathrooms: 2, House Size: 1300, Description: \"This charming townhouse in the University District is a rare find. With three bedrooms, Neighborhood Description:  two bathrooms\n",
      "\n",
      "Result 4:\n",
      "Neighborhood: Fremont, Price: 600000, Bedrooms: 2, Bathrooms: 1, House Size: 1200, Description: \"This cozy cottage in Fremont is a hidden gem waiting to be discovered. Featuring two bedrooms, Neighborhood Description:  one bathroom\n",
      "\n",
      "Result 5:\n",
      "Neighborhood: Capitol Hill, Price: 500000, Bedrooms: 2, Bathrooms: 1, House Size: 1000, Description: \"This charming bungalow in the heart of Capitol Hill is the perfect starter home. With two cozy bedrooms, Neighborhood Description:  a spacious living room\n",
      "\n"
     ]
    }
   ],
   "source": [
    "# Perform semantic search in the vector database\n",
    "results = collection.query(\n",
    "    query_embeddings=[preference_embedding],\n",
    "    n_results=5  # Retrieve top 5 listings\n",
    ")\n",
    "\n",
    "# Display search results\n",
    "for idx, result in enumerate(results['documents'][0]):\n",
    "    print(f\"Result {idx+1}:\\n{result}\\n\")"
   ]
  },
  {
   "cell_type": "markdown",
   "id": "f9eb06eb",
   "metadata": {},
   "source": [
    "## Step 6: Personalizing Listing Descriptions "
   ]
  },
  {
   "cell_type": "code",
   "execution_count": 8,
   "id": "b2e381bf",
   "metadata": {},
   "outputs": [
    {
     "name": "stdout",
     "output_type": "stream",
     "text": [
      "Personalized Listing 1:\n",
      "Welcome to your dream home in the heart of Ballard! This modern townhouse offers three spacious bedrooms, perfect for your growing family. The sleek design includes a spacious kitchen, ideal for cooking family meals, and a cozy living room for relaxing evenings together.\n",
      "\n",
      "Located in a quiet neighborhood with good local schools and convenient shopping options, this home also features a backyard for gardening and a two-car garage for all your storage needs. Stay comfortable year-round with the modern, energy-efficient heating system.\n",
      "\n",
      "Enjoy easy access to a reliable bus line, proximity to a major highway, and bike-friendly roads for your daily commute. And with a perfect balance between suburban tranquility and access to urban amenities like restaurants and theaters, you'll have everything you need right at your fingertips. Don't miss out on this perfect blend of comfort and convenience in Ballard!\n",
      "\n",
      "Personalized Listing 2:\n",
      "Welcome home to this charming craftsman in Greenwood, the perfect blend of suburban tranquility and urban convenience. This cozy three-bedroom house features a spacious kitchen, ideal for cooking up delicious meals, and a comfortable living room for relaxing with loved ones. The quiet neighborhood boasts good local schools and convenient shopping options, making daily errands a breeze.\n",
      "\n",
      "Step outside to the backyard, perfect for gardening and enjoying the fresh air. The two-car garage provides ample storage space for all your belongings. Stay cozy and warm with the modern, energy-efficient heating system in place.\n",
      "\n",
      "For those who value convenience, this home offers easy access to a reliable bus line, proximity to a major highway, and bike-friendly roads for eco-friendly commuting options. And when it's time to unwind, you'll find yourself just a stone's throw away from restaurants and theaters for a night out on the town.\n",
      "\n",
      "Don't miss out on the opportunity to make this dream home yours! Contact us today to schedule a viewing.\n",
      "\n",
      "Personalized Listing 3:\n",
      "Welcome to this charming townhouse in the University District, a rare find that perfectly fits your criteria. This comfortable three-bedroom home features a spacious kitchen and a cozy living room, ideal for relaxing and entertaining. Located in a quiet neighborhood with good local schools and convenient shopping options, you'll love the peaceful surroundings.\n",
      "\n",
      "Step outside to enjoy the backyard, perfect for gardening, and take advantage of the two-car garage for parking and storage. Stay cozy and energy-efficient with the modern heating system in place. With easy access to a reliable bus line, proximity to a major highway, and bike-friendly roads, getting around town is a breeze.\n",
      "\n",
      "Experience the perfect balance between suburban tranquility and urban amenities, with restaurants and theaters just a short distance away. Don't miss out on this opportunity to make this your dream home in the University District. Schedule a showing today!\n",
      "\n",
      "Personalized Listing 4:\n",
      "Neighborhood: Fremont, Price: 600000, Bedrooms: 2, Bathrooms: 1, House Size: 1200\n",
      "\n",
      "Welcome to this charming cottage in the peaceful neighborhood of Fremont. While this home may have two bedrooms, it offers the potential to easily convert a space into a third bedroom to meet your needs. The spacious kitchen is perfect for preparing meals and entertaining guests, while the cozy living room provides a comfortable space to relax and unwind.\n",
      "\n",
      "Located in a quiet neighborhood with excellent local schools and convenient shopping options nearby, this home offers the perfect balance of suburban tranquility and urban amenities. The backyard is ideal for gardening, and the two-car garage provides ample storage space. Stay warm and energy-efficient with the modern heating system in place.\n",
      "\n",
      "With easy access to a reliable bus line, proximity to a major highway, and bike-friendly roads, commuting is a breeze. Enjoy the convenience of being close to restaurants and theaters while still enjoying the peaceful surroundings of your new home. Don't miss out on this hidden gem waiting to be discovered in Fremont.\n",
      "\n",
      "Personalized Listing 5:\n",
      "Neighborhood: Capitol Hill, Price: 500000, Bedrooms: 2, Bathrooms: 1, House Size: 1000\n",
      "\n",
      "Description: \"This charming bungalow in the heart of Capitol Hill is the perfect starter home. With two cozy bedrooms, a spacious living room, and a potential to convert the extra space into a third bedroom, this house offers the comfort and flexibility you desire. The kitchen is perfect for preparing family meals and entertaining guests, and the backyard provides ample space for gardening. The quiet neighborhood is close to good local schools and convenient shopping options. Additionally, the two-car garage and modern, energy-efficient heating system add to the convenience and sustainability of this home. With easy access to a reliable bus line, proximity to a major highway, and bike-friendly roads, you can easily navigate the area. Enjoy the perfect balance between suburban tranquility and access to urban amenities like restaurants and theaters. Don't miss out on this opportunity to make this house your dream home!\"\n",
      "\n"
     ]
    }
   ],
   "source": [
    "# Function to personalize listing\n",
    "def personalize_listing(listing, preferences):\n",
    "    prompt = f\"\"\"\n",
    "    Here is a real estate listing:\n",
    "    {listing}\n",
    "    \n",
    "    Based on the following buyer preferences:\n",
    "    {preferences}\n",
    "    \n",
    "    Personalize the listing description to resonate with the buyer’s specific preferences without altering factual information.\n",
    "    \"\"\"\n",
    "    response = llm(prompt)\n",
    "    return response\n",
    "\n",
    "# Personalize each retrieved listing\n",
    "personalized_listings = []\n",
    "for idx, result in enumerate(results['documents'][0]):\n",
    "    personalized_listing = personalize_listing(result, preferences)\n",
    "    personalized_listings.append(personalized_listing)\n",
    "    print(f\"Personalized Listing {idx+1}:\\n{personalized_listing}\\n\")"
   ]
  },
  {
   "cell_type": "code",
   "execution_count": null,
   "id": "3114bd30",
   "metadata": {},
   "outputs": [],
   "source": []
  },
  {
   "cell_type": "code",
   "execution_count": null,
   "id": "78055824",
   "metadata": {},
   "outputs": [],
   "source": []
  },
  {
   "cell_type": "code",
   "execution_count": null,
   "id": "16815fef",
   "metadata": {},
   "outputs": [],
   "source": []
  },
  {
   "cell_type": "code",
   "execution_count": null,
   "id": "b2b61105",
   "metadata": {},
   "outputs": [],
   "source": []
  },
  {
   "cell_type": "code",
   "execution_count": null,
   "id": "dd6484e3",
   "metadata": {},
   "outputs": [],
   "source": []
  }
 ],
 "metadata": {
  "kernelspec": {
   "display_name": "Python 3 (ipykernel)",
   "language": "python",
   "name": "python3"
  },
  "language_info": {
   "codemirror_mode": {
    "name": "ipython",
    "version": 3
   },
   "file_extension": ".py",
   "mimetype": "text/x-python",
   "name": "python",
   "nbconvert_exporter": "python",
   "pygments_lexer": "ipython3",
   "version": "3.10.11"
  }
 },
 "nbformat": 4,
 "nbformat_minor": 5
}
